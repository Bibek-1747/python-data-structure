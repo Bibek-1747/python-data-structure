{
 "cells": [
  {
   "cell_type": "markdown",
   "id": "e0ee65cf",
   "metadata": {},
   "source": [
    "## Data Types and Structures Questions\n"
   ]
  },
  {
   "cell_type": "markdown",
   "id": "659ff83f",
   "metadata": {},
   "source": [
    "###### Q1) What are data structures, and why are they important?\n",
    "Data structures are specialized formats for organizing, storing, and managing data in a computer so it can be used efficiently.\n",
    "They're critically important because the choice of data structure directly affects a program's performance and efficiency."
   ]
  },
  {
   "cell_type": "markdown",
   "id": "c73d437b",
   "metadata": {},
   "source": [
    "###### Q2)Explain the difference between mutable and immutable data types with examples?\n",
    "Mutable data types can be changed or modified in-place after they are created. Immutable data types cannot be changed once created\n",
    "For example, a list in Python is mutable, so you can add or remove elements. A string or a tuple is immutable."
   ]
  },
  {
   "cell_type": "markdown",
   "id": "a290311f",
   "metadata": {},
   "source": [
    "###### Q3)What are the main differences between lists and tuples in Python?\n",
    "a list in Python is mutable while a tuple is immutable but faster then list"
   ]
  },
  {
   "cell_type": "markdown",
   "id": "62d53dbe",
   "metadata": {},
   "source": [
    "###### Q4)Describe how dictionaries store data?\n",
    "Dictionaries store data as key-value pairs using a powerful technique called hashing. This method allows for extremely fast data retrieval, making dictionaries highly efficient."
   ]
  },
  {
   "cell_type": "markdown",
   "id": "7b7dc590",
   "metadata": {},
   "source": [
    "###### Q5)Why might you use a set instead of a list in Python?\n",
    " a set instead of a list primarily for two reasons: to guarantee that all elements are unique and to perform extremely fast membership testing (checking if an item is in the collection)."
   ]
  },
  {
   "cell_type": "markdown",
   "id": "7920b98f",
   "metadata": {},
   "source": [
    "###### Q6)What is a string in Python, and how is it different from a list?\n",
    "A string in Python is an immutable sequence of characters, used to represent text data. While both strings and lists are ordered sequences that you can index and slice, their main differences lie in mutability and the type of elements they can hold."
   ]
  },
  {
   "cell_type": "markdown",
   "id": "e399f582",
   "metadata": {},
   "source": [
    "###### Q7) How do tuples ensure data integrity in Python?\n",
    "Tuples ensure data integrity in Python primarily through their immutability. Because a tuple cannot be changed after it's created, it acts as a secure, read-only container for data, protecting it from accidental or unauthorized modification."
   ]
  },
  {
   "cell_type": "markdown",
   "id": "5872af71",
   "metadata": {},
   "source": [
    "###### Q8)What is a hash table, and how does it relate to dictionaries in Python?\n",
    "A hash table is a data structure that stores data as key-value pairs by using a hash function to compute an index into an array of \"buckets\" or \"slots.\" The Python dictionary is the language's built-in implementation of a hash table; it's the underlying engine that gives dictionaries their speed."
   ]
  },
  {
   "cell_type": "markdown",
   "id": "0df1a9d6",
   "metadata": {},
   "source": [
    "###### Q9)Can lists contain different data types in Python?\n",
    "Yes"
   ]
  },
  {
   "cell_type": "markdown",
   "id": "830b86e8",
   "metadata": {},
   "source": [
    "###### Q10)Explain why strings are immutable in Python?\n",
    "Strings are immutable in Python primarily for reasons of efficiency, security, and predictability. This design choice prevents accidental data modification and allows for significant memory optimizations by the Python interpreter."
   ]
  },
  {
   "cell_type": "markdown",
   "id": "b9da4d99",
   "metadata": {},
   "source": [
    "###### Q11)What advantages do dictionaries offer over lists for certain tasks?\n",
    "The most crucial advantage of a dictionary is its incredibly fast lookup speed.\n",
    "Dictionaries store data as key-value pairs, which makes the code more readable and self-documenting."
   ]
  },
  {
   "cell_type": "markdown",
   "id": "fd202cd0",
   "metadata": {},
   "source": [
    "###### Q12)Describe a scenario where using a tuple would be preferable over a list?\n",
    "Storing user's contact information."
   ]
  },
  {
   "cell_type": "markdown",
   "id": "56a70ddf",
   "metadata": {},
   "source": [
    "###### Q13) How do sets handle duplicate values in Python?\n",
    "A set is designed as a collection of distinct items. Under the hood, sets are implemented using a hash table, similar to dictionaries. When you try to add an item, Python calculates the item's hash value to determine where to store it.\n",
    "if an item with the same hash value and an equal value is already in that location, the set recognizes it as a duplicate. Instead of raising an error or storing it again, the add() operation simply does nothing, and the set remains unchanged. This process is silent and efficient."
   ]
  },
  {
   "cell_type": "markdown",
   "id": "e860b8b0",
   "metadata": {},
   "source": [
    "###### Q14)How does the “in” keyword work differently for lists and dictionaries?\n",
    "The in keyword works differently because it checks for values in a list but checks for keys in a dictionary"
   ]
  },
  {
   "cell_type": "markdown",
   "id": "c240fe3c",
   "metadata": {},
   "source": [
    "###### Q15)Can you modify the elements of a tuple? Explain why or why not?\n",
    "No, Because tuple is immutable"
   ]
  },
  {
   "cell_type": "markdown",
   "id": "35fc9840",
   "metadata": {},
   "source": [
    "###### Q16)What is a nested dictionary, and give an example of its use case?\n",
    "A nested dictionary is a dictionary where the value associated with a key is another dictionary. This structure is extremely useful for storing and organizing complex, hierarchical data in a structured way such as such as employee data for a company."
   ]
  },
  {
   "cell_type": "markdown",
   "id": "d6614b7b",
   "metadata": {},
   "source": [
    "###### Q17)Describe the time complexity of accessing elements in a dictionary?\n",
    "The time complexity of accessing elements in a dictionary is O(1) or constant time on average"
   ]
  },
  {
   "cell_type": "markdown",
   "id": "0ad0af0f",
   "metadata": {},
   "source": [
    "###### Q18) In what situations are lists preferred over dictionaries?\n",
    "Lists are preferred over dictionaries in situations where the order of elements is critical and when you're working with a simple, sequential collection of items accessed by their position.\\\n",
    "ex: playlist of songs"
   ]
  },
  {
   "cell_type": "markdown",
   "id": "289bee57",
   "metadata": {},
   "source": [
    "###### Q19)Why are dictionaries considered unordered, and how does that affect data retrieval?\n",
    "Historically, dictionaries were considered unordered because their internal structure is a hash table, which organizes data by a key's hash value, not by its insertion sequence, it makes retrieving data by its key incredibly fast"
   ]
  },
  {
   "cell_type": "markdown",
   "id": "75a12465",
   "metadata": {},
   "source": [
    "###### Q20)Explain the difference between a list and a dictionary in terms of data retrieval.\n",
    "The primary difference is that lists retrieve data by its numeric position (index), while dictionaries retrieve data by a unique label (key). This makes their performance for finding data fundamentally different\n",
    "The retrieval time remains extremely fast and is largely unaffected by the size of the dictionary"
   ]
  },
  {
   "cell_type": "markdown",
   "id": "f20af776",
   "metadata": {},
   "source": [
    "# Practical Questions"
   ]
  },
  {
   "cell_type": "markdown",
   "id": "30cb484e",
   "metadata": {},
   "source": [
    "###### Q1)Write a code to create a string with your name and print it?"
   ]
  },
  {
   "cell_type": "code",
   "execution_count": 1,
   "id": "80e2d5b4",
   "metadata": {},
   "outputs": [
    {
     "name": "stdout",
     "output_type": "stream",
     "text": [
      "enter your name: Bibek\n",
      "Bibek\n"
     ]
    }
   ],
   "source": [
    "name=input(\"enter your name: \")\n",
    "print(name)"
   ]
  },
  {
   "cell_type": "markdown",
   "id": "f7e4a6d6",
   "metadata": {},
   "source": [
    "###### Q2)Write a code to find the length of the string \"Hello World\"?"
   ]
  },
  {
   "cell_type": "code",
   "execution_count": 2,
   "id": "af8a9955",
   "metadata": {},
   "outputs": [
    {
     "data": {
      "text/plain": [
       "11"
      ]
     },
     "execution_count": 2,
     "metadata": {},
     "output_type": "execute_result"
    }
   ],
   "source": [
    "len(\"Hello World\")"
   ]
  },
  {
   "cell_type": "markdown",
   "id": "dfeff6c2",
   "metadata": {},
   "source": [
    "###### Q3)Write a code to slice the first 3 characters from the string \"Python Programming\"?"
   ]
  },
  {
   "cell_type": "code",
   "execution_count": 3,
   "id": "84fc3471",
   "metadata": {},
   "outputs": [
    {
     "data": {
      "text/plain": [
       "'Pyt'"
      ]
     },
     "execution_count": 3,
     "metadata": {},
     "output_type": "execute_result"
    }
   ],
   "source": [
    "string=\"Python Programming\"\n",
    "string[0:3]"
   ]
  },
  {
   "cell_type": "markdown",
   "id": "03a55570",
   "metadata": {},
   "source": [
    "###### Q4)Write a code to convert the string \"hello\" to uppercase?"
   ]
  },
  {
   "cell_type": "code",
   "execution_count": 4,
   "id": "5ec05b07",
   "metadata": {},
   "outputs": [
    {
     "data": {
      "text/plain": [
       "'HELLO'"
      ]
     },
     "execution_count": 4,
     "metadata": {},
     "output_type": "execute_result"
    }
   ],
   "source": [
    "string1=\"hello\"\n",
    "string1.upper()"
   ]
  },
  {
   "cell_type": "markdown",
   "id": "361e3f19",
   "metadata": {},
   "source": [
    "###### Q5)Write a code to replace the word \"apple\" with \"orange\" in the string \"I like apple\"?"
   ]
  },
  {
   "cell_type": "code",
   "execution_count": 5,
   "id": "8e92e551",
   "metadata": {},
   "outputs": [
    {
     "data": {
      "text/plain": [
       "'I Like orange'"
      ]
     },
     "execution_count": 5,
     "metadata": {},
     "output_type": "execute_result"
    }
   ],
   "source": [
    "string2=\"I Like apple\"\n",
    "string2.replace(\"apple\",\"orange\")"
   ]
  },
  {
   "cell_type": "markdown",
   "id": "e491164a",
   "metadata": {},
   "source": [
    "###### Q6)Write a code to create a list with numbers 1 to 5 and print it?\n"
   ]
  },
  {
   "cell_type": "code",
   "execution_count": 6,
   "id": "b2b43413",
   "metadata": {},
   "outputs": [
    {
     "name": "stdout",
     "output_type": "stream",
     "text": [
      "[1, 2, 3, 4, 5]\n"
     ]
    }
   ],
   "source": [
    "print(list(range(1,6)))"
   ]
  },
  {
   "cell_type": "markdown",
   "id": "d9428b66",
   "metadata": {},
   "source": [
    "###### Q7)Write a code to append the number 10 to the list [1, 2, 3, 4]?"
   ]
  },
  {
   "cell_type": "code",
   "execution_count": 7,
   "id": "894cd2de",
   "metadata": {},
   "outputs": [],
   "source": [
    "l1=[1,2,3,4]\n",
    "l1.append(10)"
   ]
  },
  {
   "cell_type": "code",
   "execution_count": 8,
   "id": "eeb2d6e4",
   "metadata": {},
   "outputs": [
    {
     "data": {
      "text/plain": [
       "[1, 2, 3, 4, 10]"
      ]
     },
     "execution_count": 8,
     "metadata": {},
     "output_type": "execute_result"
    }
   ],
   "source": [
    "l1"
   ]
  },
  {
   "cell_type": "markdown",
   "id": "9b7eb8ed",
   "metadata": {},
   "source": [
    "###### Q8) Write a code to remove the number 3 from the list [1, 2, 3, 4, 5]?"
   ]
  },
  {
   "cell_type": "code",
   "execution_count": 9,
   "id": "db1bafd5",
   "metadata": {},
   "outputs": [],
   "source": [
    "l2=[1,2,3,4,5]\n",
    "l2.remove(3)"
   ]
  },
  {
   "cell_type": "code",
   "execution_count": 10,
   "id": "d264c07f",
   "metadata": {},
   "outputs": [
    {
     "data": {
      "text/plain": [
       "[1, 2, 4, 5]"
      ]
     },
     "execution_count": 10,
     "metadata": {},
     "output_type": "execute_result"
    }
   ],
   "source": [
    "l2"
   ]
  },
  {
   "cell_type": "markdown",
   "id": "52a4eae1",
   "metadata": {},
   "source": [
    "###### Q9)Write a code to access the second element in the list ['a', 'b', 'c', 'd']?"
   ]
  },
  {
   "cell_type": "code",
   "execution_count": 11,
   "id": "425fb384",
   "metadata": {},
   "outputs": [
    {
     "name": "stdout",
     "output_type": "stream",
     "text": [
      "b\n"
     ]
    }
   ],
   "source": [
    "l3=[\"a\",\"b\",\"c\",\"d\"]\n",
    "print(l3[1])"
   ]
  },
  {
   "cell_type": "markdown",
   "id": "d42ccdf8",
   "metadata": {},
   "source": [
    "###### Q10) Write a code to reverse the list [10, 20, 30, 40, 50]."
   ]
  },
  {
   "cell_type": "code",
   "execution_count": 12,
   "id": "5ecebc66",
   "metadata": {},
   "outputs": [
    {
     "data": {
      "text/plain": [
       "[50, 40, 30, 20, 10]"
      ]
     },
     "execution_count": 12,
     "metadata": {},
     "output_type": "execute_result"
    }
   ],
   "source": [
    "l3=[10,20,30,40,50]\n",
    "l3[::-1]  "
   ]
  },
  {
   "cell_type": "markdown",
   "id": "a09f26db",
   "metadata": {},
   "source": [
    "###### Q11)Write a code to create a tuple with the elements 100, 200, 300 and print it."
   ]
  },
  {
   "cell_type": "code",
   "execution_count": 13,
   "id": "87c4d607",
   "metadata": {},
   "outputs": [
    {
     "name": "stdout",
     "output_type": "stream",
     "text": [
      "(100, 200, 300)\n"
     ]
    }
   ],
   "source": [
    "t1=(100,200,300)\n",
    "print(t1)"
   ]
  },
  {
   "cell_type": "markdown",
   "id": "2f863b5f",
   "metadata": {},
   "source": [
    "###### Q12)Write a code to access the second-to-last element of the tuple ('red', 'green', 'blue', 'yellow')?"
   ]
  },
  {
   "cell_type": "code",
   "execution_count": 14,
   "id": "ec8e48bd",
   "metadata": {},
   "outputs": [
    {
     "data": {
      "text/plain": [
       "'green'"
      ]
     },
     "execution_count": 14,
     "metadata": {},
     "output_type": "execute_result"
    }
   ],
   "source": [
    "t2=(\"red\",\"green\",\"blue\",\"yellow\")\n",
    "t2[1]"
   ]
  },
  {
   "cell_type": "markdown",
   "id": "755a675c",
   "metadata": {},
   "source": [
    "###### Q13)Write a code to find the minimum number in the tuple (10, 20, 5, 15)?"
   ]
  },
  {
   "cell_type": "code",
   "execution_count": 15,
   "id": "cd0c4ee2",
   "metadata": {},
   "outputs": [
    {
     "data": {
      "text/plain": [
       "5"
      ]
     },
     "execution_count": 15,
     "metadata": {},
     "output_type": "execute_result"
    }
   ],
   "source": [
    "t3=(10,20,5,15)\n",
    "min(t3)"
   ]
  },
  {
   "cell_type": "markdown",
   "id": "a588f067",
   "metadata": {},
   "source": [
    "###### Q14)Write a code to find the index of the element \"cat\" in the tuple ('dog', 'cat', 'rabbit')?"
   ]
  },
  {
   "cell_type": "code",
   "execution_count": 16,
   "id": "be02cad0",
   "metadata": {},
   "outputs": [
    {
     "data": {
      "text/plain": [
       "1"
      ]
     },
     "execution_count": 16,
     "metadata": {},
     "output_type": "execute_result"
    }
   ],
   "source": [
    "t4=(\"dog\",\"cat\",\"rabbit\")\n",
    "t4.index(\"cat\")"
   ]
  },
  {
   "cell_type": "markdown",
   "id": "48a1c83e",
   "metadata": {},
   "source": [
    "###### Q15)Write a code to create a tuple containing three different fruits and check if \"kiwi\" is in it."
   ]
  },
  {
   "cell_type": "code",
   "execution_count": 17,
   "id": "dca3f2b1",
   "metadata": {},
   "outputs": [
    {
     "data": {
      "text/plain": [
       "True"
      ]
     },
     "execution_count": 17,
     "metadata": {},
     "output_type": "execute_result"
    }
   ],
   "source": [
    "fruit=(\"apple\",\"banana\",\"kiwi\")\n",
    "\"kiwi\" in fruit"
   ]
  },
  {
   "cell_type": "markdown",
   "id": "13bdccd2",
   "metadata": {},
   "source": [
    "###### Q16)Write a code to create a set with the elements 'a', 'b', 'c' and print it."
   ]
  },
  {
   "cell_type": "code",
   "execution_count": 18,
   "id": "36ed85a9",
   "metadata": {},
   "outputs": [
    {
     "name": "stdout",
     "output_type": "stream",
     "text": [
      "{'a', 'c', 'b'}\n"
     ]
    }
   ],
   "source": [
    "s1={\"a\",\"b\",\"c\"}\n",
    "print(s1)"
   ]
  },
  {
   "cell_type": "markdown",
   "id": "efa839d8",
   "metadata": {},
   "source": [
    "###### Q17)Write a code to clear all elements from the set {1, 2, 3, 4, 5}."
   ]
  },
  {
   "cell_type": "code",
   "execution_count": 19,
   "id": "833e3858",
   "metadata": {},
   "outputs": [],
   "source": [
    "s2={1,2,3,4,5}\n",
    "s2.clear()"
   ]
  },
  {
   "cell_type": "code",
   "execution_count": 20,
   "id": "c40fce6d",
   "metadata": {},
   "outputs": [
    {
     "name": "stdout",
     "output_type": "stream",
     "text": [
      "set()\n"
     ]
    }
   ],
   "source": [
    "print(s2)"
   ]
  },
  {
   "cell_type": "markdown",
   "id": "4b90e7ae",
   "metadata": {},
   "source": [
    "###### Q18)Write a code to remove the element 4 from the set {1, 2, 3, 4}."
   ]
  },
  {
   "cell_type": "code",
   "execution_count": 21,
   "id": "044e5024",
   "metadata": {},
   "outputs": [],
   "source": [
    "s3={1,2,3,4}\n",
    "s3.remove(4)"
   ]
  },
  {
   "cell_type": "code",
   "execution_count": 22,
   "id": "a0cc5ee6",
   "metadata": {},
   "outputs": [
    {
     "name": "stdout",
     "output_type": "stream",
     "text": [
      "{1, 2, 3}\n"
     ]
    }
   ],
   "source": [
    "print(s3)"
   ]
  },
  {
   "cell_type": "markdown",
   "id": "e2aac095",
   "metadata": {},
   "source": [
    "###### Q19)Write a code to find the union of two sets {1, 2, 3} and {3, 4, 5}."
   ]
  },
  {
   "cell_type": "code",
   "execution_count": 23,
   "id": "9937f812",
   "metadata": {},
   "outputs": [
    {
     "data": {
      "text/plain": [
       "{1, 2, 3, 4, 5}"
      ]
     },
     "execution_count": 23,
     "metadata": {},
     "output_type": "execute_result"
    }
   ],
   "source": [
    "s4={1,2,3}\n",
    "s5={3,4,5}\n",
    "s4 | s5"
   ]
  },
  {
   "cell_type": "markdown",
   "id": "bd3299e1",
   "metadata": {},
   "source": [
    "###### Q20) Write a code to find the intersection of two sets {1, 2, 3} and {2, 3, 4}."
   ]
  },
  {
   "cell_type": "code",
   "execution_count": 24,
   "id": "46ee16e1",
   "metadata": {},
   "outputs": [
    {
     "data": {
      "text/plain": [
       "{2, 3}"
      ]
     },
     "execution_count": 24,
     "metadata": {},
     "output_type": "execute_result"
    }
   ],
   "source": [
    "s6={1,2,3}\n",
    "s7={2,3,4}\n",
    "s6 & s7"
   ]
  },
  {
   "cell_type": "markdown",
   "id": "cd875cad",
   "metadata": {},
   "source": [
    "###### Q21)Write a code to create a dictionary with the keys \"name\", \"age\", and \"city\", and print it."
   ]
  },
  {
   "cell_type": "code",
   "execution_count": 25,
   "id": "600b6279",
   "metadata": {},
   "outputs": [
    {
     "name": "stdout",
     "output_type": "stream",
     "text": [
      "{'name': 'bibek', 'age': 22, 'city': 'Bhadrak'}\n"
     ]
    }
   ],
   "source": [
    "d1={\"name\":\"bibek\",\"age\":22,\"city\":\"Bhadrak\"}\n",
    "print(d1)"
   ]
  },
  {
   "cell_type": "markdown",
   "id": "81ef5214",
   "metadata": {},
   "source": [
    "###### Q22)Write a code to add a new key-value pair \"country\": \"USA\" to the dictionary {'name': 'John', 'age': 25}."
   ]
  },
  {
   "cell_type": "code",
   "execution_count": 26,
   "id": "098c459b",
   "metadata": {},
   "outputs": [],
   "source": [
    "d2={\"name\":\"john\",\"age\":25}\n",
    "d2[\"country\"]=\"USA\""
   ]
  },
  {
   "cell_type": "code",
   "execution_count": 27,
   "id": "dd1bc583",
   "metadata": {},
   "outputs": [
    {
     "name": "stdout",
     "output_type": "stream",
     "text": [
      "{'name': 'john', 'age': 25, 'country': 'USA'}\n"
     ]
    }
   ],
   "source": [
    "print(d2)"
   ]
  },
  {
   "cell_type": "markdown",
   "id": "82011632",
   "metadata": {},
   "source": [
    "###### Q23)Write a code to access the value associated with the key \"name\" in the dictionary {'name': 'Alice', 'age': 30}."
   ]
  },
  {
   "cell_type": "code",
   "execution_count": 28,
   "id": "9e6ab6ef",
   "metadata": {},
   "outputs": [],
   "source": [
    "d3={'name': 'Alice', 'age': 30}"
   ]
  },
  {
   "cell_type": "code",
   "execution_count": 29,
   "id": "21efe67e",
   "metadata": {},
   "outputs": [
    {
     "data": {
      "text/plain": [
       "'Alice'"
      ]
     },
     "execution_count": 29,
     "metadata": {},
     "output_type": "execute_result"
    }
   ],
   "source": [
    "d3[\"name\"]"
   ]
  },
  {
   "cell_type": "markdown",
   "id": "5bb12114",
   "metadata": {},
   "source": [
    "###### Q24)Write a code to remove the key \"age\" from the dictionary {'name': 'Bob', 'age': 22, 'city': 'New York'}"
   ]
  },
  {
   "cell_type": "code",
   "execution_count": 30,
   "id": "45c64730",
   "metadata": {},
   "outputs": [
    {
     "data": {
      "text/plain": [
       "22"
      ]
     },
     "execution_count": 30,
     "metadata": {},
     "output_type": "execute_result"
    }
   ],
   "source": [
    "d4={'name': 'Bob', 'age': 22, 'city': 'New York'}\n",
    "d4.pop(\"age\")"
   ]
  },
  {
   "cell_type": "code",
   "execution_count": 31,
   "id": "4504b335",
   "metadata": {},
   "outputs": [
    {
     "data": {
      "text/plain": [
       "{'name': 'Bob', 'city': 'New York'}"
      ]
     },
     "execution_count": 31,
     "metadata": {},
     "output_type": "execute_result"
    }
   ],
   "source": [
    "d4"
   ]
  },
  {
   "cell_type": "markdown",
   "id": "bc4baf8a",
   "metadata": {},
   "source": [
    "###### Q25)rite a code to check if the key \"city\" exists in the dictionary {'name': 'Alice', 'city': 'Paris'}."
   ]
  },
  {
   "cell_type": "code",
   "execution_count": 32,
   "id": "09c1de9c",
   "metadata": {},
   "outputs": [
    {
     "data": {
      "text/plain": [
       "True"
      ]
     },
     "execution_count": 32,
     "metadata": {},
     "output_type": "execute_result"
    }
   ],
   "source": [
    "d5={'name': 'Alice', 'city': 'Paris'}\n",
    "\"city\" in d5.keys()"
   ]
  },
  {
   "cell_type": "markdown",
   "id": "7ce22fde",
   "metadata": {},
   "source": [
    "###### Q26)Write a code to create a list, a tuple, and a dictionary, and print them all."
   ]
  },
  {
   "cell_type": "code",
   "execution_count": 33,
   "id": "02fd8fc2",
   "metadata": {},
   "outputs": [
    {
     "name": "stdout",
     "output_type": "stream",
     "text": [
      "[1, 2, 3]\n",
      "(1, 2, 3)\n",
      "{1: 1, 2: 2, 3: 3}\n"
     ]
    }
   ],
   "source": [
    "l=[1,2,3]\n",
    "t=(1,2,3)\n",
    "d={1:1,2:2,3:3}\n",
    "print(l)\n",
    "print(t)\n",
    "print(d)"
   ]
  },
  {
   "cell_type": "markdown",
   "id": "3186ecd5",
   "metadata": {},
   "source": [
    "###### Q27)Write a code to create a list of 5 random numbers between 1 and 100, sort it in ascending order, and print the result (replaced)"
   ]
  },
  {
   "cell_type": "code",
   "execution_count": 34,
   "id": "1f07effe",
   "metadata": {},
   "outputs": [
    {
     "name": "stdout",
     "output_type": "stream",
     "text": [
      "[19, 45, 54, 78, 87]\n"
     ]
    }
   ],
   "source": [
    "import random\n",
    "random_numbers = [random.randint(1, 100) for _ in range(5)]\n",
    "random_numbers.sort()\n",
    "print(random_numbers)"
   ]
  },
  {
   "cell_type": "markdown",
   "id": "0c2f0fac",
   "metadata": {},
   "source": [
    "###### Q28)Write a code to create a list with strings and print the element at the third index."
   ]
  },
  {
   "cell_type": "code",
   "execution_count": 35,
   "id": "2288e770",
   "metadata": {},
   "outputs": [
    {
     "data": {
      "text/plain": [
       "'good'"
      ]
     },
     "execution_count": 35,
     "metadata": {},
     "output_type": "execute_result"
    }
   ],
   "source": [
    "ls=[\"Bibek\",\"Data Science\",\"student\",\"good\"]\n",
    "ls[3]"
   ]
  },
  {
   "cell_type": "markdown",
   "id": "70f34d01",
   "metadata": {},
   "source": [
    "###### Q29)Write a code to combine two dictionaries into one and print the result."
   ]
  },
  {
   "cell_type": "code",
   "execution_count": 36,
   "id": "1e1006d5",
   "metadata": {},
   "outputs": [
    {
     "name": "stdout",
     "output_type": "stream",
     "text": [
      "{'name': 'Alice', 'age': 25, 'city': 'New York', 'job': 'Engineer'}\n"
     ]
    }
   ],
   "source": [
    "d1 = {'name': 'Alice', 'age': 25}\n",
    "d2 = {'city': 'New York', 'job': 'Engineer'}\n",
    "combined_dict = {**d1, **d2}\n",
    "print(combined_dict)"
   ]
  },
  {
   "cell_type": "markdown",
   "id": "8ca2f4f7",
   "metadata": {},
   "source": [
    "###### Q30)Write a code to convert a list of strings into a set."
   ]
  },
  {
   "cell_type": "code",
   "execution_count": 37,
   "id": "109a0db4",
   "metadata": {},
   "outputs": [
    {
     "data": {
      "text/plain": [
       "{'Bibek', 'Data Science', 'good', 'student'}"
      ]
     },
     "execution_count": 37,
     "metadata": {},
     "output_type": "execute_result"
    }
   ],
   "source": [
    "ls=[\"Bibek\",\"Data Science\",\"student\",\"good\"]\n",
    "set(ls)"
   ]
  },
  {
   "cell_type": "code",
   "execution_count": null,
   "id": "5e3be552",
   "metadata": {},
   "outputs": [],
   "source": []
  }
 ],
 "metadata": {
  "kernelspec": {
   "display_name": "Python 3 (ipykernel)",
   "language": "python",
   "name": "python3"
  },
  "language_info": {
   "codemirror_mode": {
    "name": "ipython",
    "version": 3
   },
   "file_extension": ".py",
   "mimetype": "text/x-python",
   "name": "python",
   "nbconvert_exporter": "python",
   "pygments_lexer": "ipython3",
   "version": "3.11.4"
  }
 },
 "nbformat": 4,
 "nbformat_minor": 5
}
